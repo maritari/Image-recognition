{
 "cells": [
  {
   "cell_type": "markdown",
   "metadata": {},
   "source": [
    "# K-nearest neighbors and cross-validation\n",
    "The task is to program my own implementation of k-nearest neighbors (kNN) and a way to compute cross-validation for it.\n",
    "I follow this: A tutorial To Implement k-Nearest Neighbors in Python From Scratch: http://machinelearningmastery.com/tutorial-to-implement-k-nearest-neighbors-in-python-from-scratch/"
   ]
  },
  {
   "cell_type": "code",
   "execution_count": 1,
   "metadata": {},
   "outputs": [],
   "source": [
    "import numpy as np \n",
    "import matplotlib.pyplot as plt\n",
    "import pandas as pd\n",
    "import math"
   ]
  },
  {
   "cell_type": "markdown",
   "metadata": {},
   "source": [
    "I load Iris data Set http://archive.ics.uci.edu/ml/datasets/Iris from the UCI machine learning repository: http://archive.ics.uci.edu/ml/. The data set contains 3 classes of 50 instances each, where each class refers to a type of iris plant."
   ]
  },
  {
   "cell_type": "code",
   "execution_count": 2,
   "metadata": {},
   "outputs": [
    {
     "name": "stdout",
     "output_type": "stream",
     "text": [
      "   sepal length  sepal width  petal length  petal width      species\n",
      "0           5.1          3.5           1.4          0.2  Iris-setosa\n",
      "1           4.9          3.0           1.4          0.2  Iris-setosa\n",
      "2           4.7          3.2           1.3          0.2  Iris-setosa\n",
      "3           4.6          3.1           1.5          0.2  Iris-setosa\n",
      "4           5.0          3.6           1.4          0.2  Iris-setosa\n"
     ]
    },
    {
     "data": {
      "text/plain": [
       "(150, 5)"
      ]
     },
     "execution_count": 2,
     "metadata": {},
     "output_type": "execute_result"
    }
   ],
   "source": [
    "df = pd.read_csv('http://archive.ics.uci.edu/ml/machine-learning-databases/iris/iris.data', header=None,\n",
    "                 names=['sepal length', 'sepal width', 'petal length', 'petal width','species'] )\n",
    "print(df.head())\n",
    "df.shape"
   ]
  },
  {
   "cell_type": "code",
   "execution_count": 3,
   "metadata": {},
   "outputs": [
    {
     "data": {
      "text/plain": [
       "(150, 4)"
      ]
     },
     "execution_count": 3,
     "metadata": {},
     "output_type": "execute_result"
    }
   ],
   "source": [
    "X = df.loc[:, \"sepal length\":\"petal width\"]\n",
    "X = X.values \n",
    "X.shape"
   ]
  },
  {
   "cell_type": "code",
   "execution_count": 4,
   "metadata": {},
   "outputs": [
    {
     "data": {
      "text/plain": [
       "(150,)"
      ]
     },
     "execution_count": 4,
     "metadata": {},
     "output_type": "execute_result"
    }
   ],
   "source": [
    "y = df.loc[:, \"species\"]\n",
    "y=y.values\n",
    "y.shape"
   ]
  },
  {
   "cell_type": "markdown",
   "metadata": {},
   "source": [
    "I need a function to divide the data into folds:"
   ]
  },
  {
   "cell_type": "code",
   "execution_count": 5,
   "metadata": {},
   "outputs": [],
   "source": [
    "def partition(n, numberOfFolds):\n",
    "    folds = []\n",
    "    S = set(range(n))\n",
    "    for f in range(numberOfFolds):\n",
    "        fold = set()\n",
    "        for i in list(S)[f:len(S):numberOfFolds]:\n",
    "            fold.add(i)\n",
    "        folds.append(fold)\n",
    "    return folds, S"
   ]
  },
  {
   "cell_type": "markdown",
   "metadata": {},
   "source": [
    "As a distance metric, I use Euclidean distance. "
   ]
  },
  {
   "cell_type": "code",
   "execution_count": 6,
   "metadata": {},
   "outputs": [],
   "source": [
    "def euclideanDistance(x1,x2):   \n",
    "    return np.sqrt(np.sum((x1-x2)**2))"
   ]
  },
  {
   "cell_type": "markdown",
   "metadata": {},
   "source": [
    "Next I need a function that returns k most similar neighbors from the training set for a given test instance (using the already defined euclideanDistance function). I used help from here again: http://machinelearningmastery.com/tutorial-to-implement-k-nearest-neighbors-in-python-from-scratch/."
   ]
  },
  {
   "cell_type": "code",
   "execution_count": 7,
   "metadata": {},
   "outputs": [],
   "source": [
    "import operator\n",
    "def getNeighbors(X_train, X_test, k):\n",
    "    distances = []\n",
    "    for i in range(len(X_train)):\n",
    "        dist = euclideanDistance(X_test, X_train[i])\n",
    "        distances.append((X_train[i], dist, i))\n",
    "    distances.sort(key=operator.itemgetter(1))\n",
    "    neighbors_ind = []\n",
    "    for x in range(k):\n",
    "        neighbors_ind.append(distances[x][2])\n",
    "    return neighbors_ind"
   ]
  },
  {
   "cell_type": "markdown",
   "metadata": {},
   "source": [
    "Now I can predict the class by allowing each neighbor to vote for their class attribute, and take the majority vote as the prediction.  I used help from here: http://machinelearningmastery.com/tutorial-to-implement-k-nearest-neighbors-in-python-from-scratch/."
   ]
  },
  {
   "cell_type": "code",
   "execution_count": 8,
   "metadata": {},
   "outputs": [],
   "source": [
    "def knnPredictClass(neighbors_ind, y_train):\n",
    "    classVotes = {}\n",
    "    for i in range(len(neighbors_ind)):\n",
    "        response = y_train[neighbors_ind[i]]\n",
    "        if response in classVotes:\n",
    "            classVotes[response] += 1\n",
    "        else:\n",
    "            classVotes[response] = 1\n",
    "    sortedVotes = sorted(classVotes.items(), key=operator.itemgetter(1), reverse=True)\n",
    "    return sortedVotes[0][0]\n"
   ]
  },
  {
   "cell_type": "markdown",
   "metadata": {},
   "source": [
    "This function I use to evaluate the accuracy of predictions:"
   ]
  },
  {
   "cell_type": "code",
   "execution_count": 9,
   "metadata": {},
   "outputs": [],
   "source": [
    "def getAccuracy(y_test, y_predicted):\n",
    "    correct = 0\n",
    "    for i in range(len(y_test)):\n",
    "        if y_test[i] is y_predicted[i]:\n",
    "            correct +=1\n",
    "    return (correct/float(len(y_test)))* 100.0"
   ]
  },
  {
   "cell_type": "markdown",
   "metadata": {},
   "source": [
    "Now I am ready for kNN-function."
   ]
  },
  {
   "cell_type": "code",
   "execution_count": 11,
   "metadata": {},
   "outputs": [],
   "source": [
    "def kNNclassification(X,y,folds,S, k=3):\n",
    "    accuracy =[]\n",
    "    for n in range(len(folds)):\n",
    "        X_train=X[list(S-folds[n])]\n",
    "        y_train=y[list(S-folds[n])] \n",
    "        X_test=X[list(folds[n])]\n",
    "        y_test=y[list(folds[n])]\n",
    "        y_predicted=[]\n",
    "        for i in range(len(X_test)):\n",
    "            neighbors_ind = getNeighbors(X_train, X_test[i], k)\n",
    "            prediction = knnPredictClass(neighbors_ind, y_train)\n",
    "            y_predicted.append(prediction)\n",
    "        acc = getAccuracy(y_test, y_predicted)\n",
    "        accuracy.append(acc)\n",
    "    print('With k =',k,', test set accuracy: ',np.mean(accuracy), '%' )\n",
    "    return np.mean(accuracy)"
   ]
  },
  {
   "cell_type": "markdown",
   "metadata": {},
   "source": [
    "I run my kNN-function with k=1..50 (the number of folds is 10)"
   ]
  },
  {
   "cell_type": "code",
   "execution_count": 12,
   "metadata": {},
   "outputs": [
    {
     "name": "stdout",
     "output_type": "stream",
     "text": [
      "With k = 1 , test set accuracy:  96.0 %\n",
      "With k = 2 , test set accuracy:  96.0 %\n",
      "With k = 3 , test set accuracy:  96.66666666666666 %\n",
      "With k = 4 , test set accuracy:  96.66666666666666 %\n",
      "With k = 5 , test set accuracy:  96.66666666666666 %\n",
      "With k = 6 , test set accuracy:  96.66666666666666 %\n",
      "With k = 7 , test set accuracy:  97.33333333333333 %\n",
      "With k = 8 , test set accuracy:  97.33333333333333 %\n",
      "With k = 9 , test set accuracy:  96.66666666666666 %\n",
      "With k = 10 , test set accuracy:  97.33333333333333 %\n",
      "With k = 11 , test set accuracy:  97.33333333333333 %\n",
      "With k = 12 , test set accuracy:  97.33333333333333 %\n",
      "With k = 13 , test set accuracy:  97.33333333333333 %\n",
      "With k = 14 , test set accuracy:  97.33333333333333 %\n",
      "With k = 15 , test set accuracy:  97.33333333333333 %\n",
      "With k = 16 , test set accuracy:  97.33333333333333 %\n",
      "With k = 17 , test set accuracy:  98.0 %\n",
      "With k = 18 , test set accuracy:  98.0 %\n",
      "With k = 19 , test set accuracy:  98.0 %\n",
      "With k = 20 , test set accuracy:  98.0 %\n",
      "With k = 21 , test set accuracy:  98.0 %\n",
      "With k = 22 , test set accuracy:  98.0 %\n",
      "With k = 23 , test set accuracy:  98.0 %\n",
      "With k = 24 , test set accuracy:  97.33333333333333 %\n",
      "With k = 25 , test set accuracy:  96.00000000000001 %\n",
      "With k = 26 , test set accuracy:  97.33333333333334 %\n",
      "With k = 27 , test set accuracy:  96.0 %\n",
      "With k = 28 , test set accuracy:  97.33333333333334 %\n",
      "With k = 29 , test set accuracy:  95.33333333333334 %\n",
      "With k = 30 , test set accuracy:  95.33333333333334 %\n",
      "With k = 31 , test set accuracy:  94.66666666666667 %\n",
      "With k = 32 , test set accuracy:  95.33333333333334 %\n",
      "With k = 33 , test set accuracy:  94.66666666666667 %\n",
      "With k = 34 , test set accuracy:  95.33333333333334 %\n",
      "With k = 35 , test set accuracy:  95.33333333333334 %\n",
      "With k = 36 , test set accuracy:  96.00000000000001 %\n",
      "With k = 37 , test set accuracy:  96.0 %\n",
      "With k = 38 , test set accuracy:  96.0 %\n",
      "With k = 39 , test set accuracy:  94.66666666666667 %\n",
      "With k = 40 , test set accuracy:  94.66666666666667 %\n",
      "With k = 41 , test set accuracy:  94.66666666666667 %\n",
      "With k = 42 , test set accuracy:  96.0 %\n",
      "With k = 43 , test set accuracy:  94.66666666666667 %\n",
      "With k = 44 , test set accuracy:  95.33333333333334 %\n",
      "With k = 45 , test set accuracy:  94.00000000000001 %\n",
      "With k = 46 , test set accuracy:  94.66666666666667 %\n",
      "With k = 47 , test set accuracy:  94.0 %\n",
      "With k = 48 , test set accuracy:  96.0 %\n",
      "With k = 49 , test set accuracy:  94.0 %\n",
      "With k = 50 , test set accuracy:  94.0 %\n",
      "Best accuracy:  98.0 % with k =  17\n"
     ]
    }
   ],
   "source": [
    "numberOfFolds=10\n",
    "folds, S = partition(len(y), numberOfFolds)\n",
    "meanAccuracy=[]\n",
    "for k in range(1,51):\n",
    "    a=kNNclassification(X,y,folds, S, k)\n",
    "    meanAccuracy.append(a)\n",
    "print('Best accuracy: ', np.max(meanAccuracy), '% with k = ', (np.argmax(meanAccuracy)+1 ) )"
   ]
  },
  {
   "cell_type": "code",
   "execution_count": 13,
   "metadata": {},
   "outputs": [
    {
     "data": {
      "image/png": "[encoded data removed]",
      "text/plain": [
       "<Figure size 432x288 with 1 Axes>"
      ]
     },
     "metadata": {
      "needs_background": "light"
     },
     "output_type": "display_data"
    },
    {
     "name": "stdout",
     "output_type": "stream",
     "text": [
      "The best classification accuracy achieved:  98.0 %, with k =  17\n"
     ]
    }
   ],
   "source": [
    "k = np.arange(1 , 51)\n",
    "plt.plot(k, meanAccuracy )\n",
    "plt.title('Accuracy with values k=1…50')\n",
    "plt.ylabel('Accuracy')\n",
    "plt.xlabel('k')\n",
    "plt.show()\n",
    "\n",
    "print('The best classification accuracy achieved: ',max(meanAccuracy), '%, with k = ', (np.argmax(meanAccuracy)+1 ))"
   ]
  },
  {
   "cell_type": "markdown",
   "metadata": {},
   "source": [
    "Now I will check if the sklearn's KNeighborsClassifier gives the same answers:\n"
   ]
  },
  {
   "cell_type": "code",
   "execution_count": 14,
   "metadata": {},
   "outputs": [
    {
     "data": {
      "image/png": "[encoded data removed]",
      "text/plain": [
       "<Figure size 432x288 with 1 Axes>"
      ]
     },
     "metadata": {
      "needs_background": "light"
     },
     "output_type": "display_data"
    },
    {
     "name": "stdout",
     "output_type": "stream",
     "text": [
      "The best classification accuracy achieved:  98.0 , with k =  12\n"
     ]
    }
   ],
   "source": [
    "from sklearn.neighbors import KNeighborsClassifier\n",
    "accur_k = []\n",
    "for k in range(1,51):\n",
    "    accuracy = []\n",
    "    for n in range(len(folds)):\n",
    "        X_train=X[list(S-folds[n])]\n",
    "        y_train=y[list(S-folds[n])] \n",
    "        X_test=X[list(folds[n])]\n",
    "        y_test=y[list(folds[n])]\n",
    "        knn = KNeighborsClassifier(n_neighbors=k)\n",
    "        knn.fit(X_train,y_train)\n",
    "        y_p = knn.predict(X_test)\n",
    "        acc = getAccuracy(y_test, y_p)\n",
    "        accuracy.append(acc)\n",
    "    accur_k.append(np.mean(accuracy))\n",
    "\n",
    "k = np.arange(1 , 51)\n",
    "plt.plot(k, accur_k )\n",
    "plt.title('Accuracy with values k=1…50')\n",
    "plt.ylabel('Accuracy')\n",
    "plt.xlabel('k')\n",
    "plt.show()\n",
    "\n",
    "print('The best classification accuracy achieved: ',max(accur_k), ', with k = ', (np.argmax(accur_k)+1 ))\n"
   ]
  },
  {
   "cell_type": "markdown",
   "metadata": {},
   "source": [
    "It didn't give the same answer. I try to check why they differ. Thus I modify the functions a little in order to get testfunctions:"
   ]
  },
  {
   "cell_type": "code",
   "execution_count": 15,
   "metadata": {},
   "outputs": [],
   "source": [
    "def testOwn_kNNclassification(X,y,folds,S, k):\n",
    "    accuracy =[]\n",
    "    for n in range(len(folds)):\n",
    "        X_train=X[list(S-folds[n])]\n",
    "        y_train=y[list(S-folds[n])] \n",
    "        X_test=X[list(folds[n])]\n",
    "        y_test=y[list(folds[n])]\n",
    "        y_predicted=[]\n",
    "        for i in range(len(X_test)):\n",
    "            neighbors_ind = getNeighbors(X_train, X_test[i], k)\n",
    "            prediction = knnPredictClass(neighbors_ind, y_train)\n",
    "            y_predicted.append(prediction)\n",
    "        acc = getAccuracy(y_test, y_predicted)\n",
    "        accuracy.append(acc)\n",
    "        print('Accuracy: ', acc, '%') #this is added for testing purposes\n",
    "    print('With k =',k,', test set accuracy: ',np.mean(accuracy), '%' )"
   ]
  },
  {
   "cell_type": "code",
   "execution_count": 16,
   "metadata": {},
   "outputs": [],
   "source": [
    "def testSklearn_kNNclassification(X,y,folds,S, k):\n",
    "    accuracy =[]\n",
    "    for n in range(len(folds)):\n",
    "        X_train=X[list(S-folds[n])]\n",
    "        y_train=y[list(S-folds[n])] \n",
    "        X_test=X[list(folds[n])]\n",
    "        y_test=y[list(folds[n])]\n",
    "        knn = KNeighborsClassifier(n_neighbors=k)\n",
    "        knn.fit(X_train,y_train)\n",
    "        y_p = knn.predict(X_test)\n",
    "        acc = getAccuracy(y_test, y_p)\n",
    "        accuracy.append(acc)\n",
    "        print('Accuracy: ', acc, '%') #this is added for testing purposes\n",
    "    print('With k =',k,', test set accuracy: ',np.mean(accuracy), '%' )"
   ]
  },
  {
   "cell_type": "code",
   "execution_count": 17,
   "metadata": {},
   "outputs": [
    {
     "name": "stdout",
     "output_type": "stream",
     "text": [
      "own classification:\n",
      "Accuracy:  93.33333333333333 %\n",
      "Accuracy:  100.0 %\n",
      "Accuracy:  100.0 %\n",
      "Accuracy:  93.33333333333333 %\n",
      "Accuracy:  100.0 %\n",
      "Accuracy:  100.0 %\n",
      "Accuracy:  86.66666666666667 %\n",
      "Accuracy:  100.0 %\n",
      "Accuracy:  100.0 %\n",
      "Accuracy:  100.0 %\n",
      "With k = 12 , test set accuracy:  97.33333333333333 %\n",
      "sklearn classification:\n",
      "Accuracy:  100.0 %\n",
      "Accuracy:  100.0 %\n",
      "Accuracy:  100.0 %\n",
      "Accuracy:  93.33333333333333 %\n",
      "Accuracy:  100.0 %\n",
      "Accuracy:  100.0 %\n",
      "Accuracy:  86.66666666666667 %\n",
      "Accuracy:  100.0 %\n",
      "Accuracy:  100.0 %\n",
      "Accuracy:  100.0 %\n",
      "With k = 12 , test set accuracy:  98.0 %\n"
     ]
    }
   ],
   "source": [
    "print('own classification:')\n",
    "testOwn_kNNclassification(X,y,folds, S, 12)\n",
    "print('sklearn classification:')\n",
    "testSklearn_kNNclassification(X,y,folds, S, 12)"
   ]
  },
  {
   "cell_type": "markdown",
   "metadata": {},
   "source": [
    "Let's test more careful the case: k=12, first fold."
   ]
  },
  {
   "cell_type": "code",
   "execution_count": 18,
   "metadata": {},
   "outputs": [
    {
     "name": "stdout",
     "output_type": "stream",
     "text": [
      "round: 0\n",
      "Votes: {'Iris-setosa': 12}\n",
      "Choice: Iris-setosa\n",
      "\n",
      "round: 1\n",
      "Votes: {'Iris-virginica': 12}\n",
      "Choice: Iris-virginica\n",
      "\n",
      "round: 2\n",
      "Votes: {'Iris-virginica': 12}\n",
      "Choice: Iris-virginica\n",
      "\n",
      "round: 3\n",
      "Votes: {'Iris-virginica': 6, 'Iris-versicolor': 6}\n",
      "Choice: Iris-virginica\n",
      "\n",
      "round: 4\n",
      "Votes: {'Iris-setosa': 12}\n",
      "Choice: Iris-setosa\n",
      "\n",
      "round: 5\n",
      "Votes: {'Iris-setosa': 12}\n",
      "Choice: Iris-setosa\n",
      "\n",
      "round: 6\n",
      "Votes: {'Iris-virginica': 12}\n",
      "Choice: Iris-virginica\n",
      "\n",
      "round: 7\n",
      "Votes: {'Iris-virginica': 11, 'Iris-versicolor': 1}\n",
      "Choice: Iris-virginica\n",
      "\n",
      "round: 8\n",
      "Votes: {'Iris-versicolor': 12}\n",
      "Choice: Iris-versicolor\n",
      "\n",
      "round: 9\n",
      "Votes: {'Iris-versicolor': 11, 'Iris-virginica': 1}\n",
      "Choice: Iris-versicolor\n",
      "\n",
      "round: 10\n",
      "Votes: {'Iris-setosa': 12}\n",
      "Choice: Iris-setosa\n",
      "\n",
      "round: 11\n",
      "Votes: {'Iris-virginica': 12}\n",
      "Choice: Iris-virginica\n",
      "\n",
      "round: 12\n",
      "Votes: {'Iris-versicolor': 12}\n",
      "Choice: Iris-versicolor\n",
      "\n",
      "round: 13\n",
      "Votes: {'Iris-versicolor': 12}\n",
      "Choice: Iris-versicolor\n",
      "\n",
      "round: 14\n",
      "Votes: {'Iris-setosa': 12}\n",
      "Choice: Iris-setosa\n",
      "\n",
      "y_test[3]: Iris-versicolor\n",
      "y_predicted[3]: Iris-virginica\n"
     ]
    }
   ],
   "source": [
    "def test_knnPredictClass(neighbors_ind, y_train):\n",
    "    classVotes = {}\n",
    "    for i in range(len(neighbors_ind)):\n",
    "        response = y_train[neighbors_ind[i]]\n",
    "        #print(i, neighbors_ind[i], response)\n",
    "        if response in classVotes:\n",
    "            classVotes[response] += 1\n",
    "        else:\n",
    "            classVotes[response] = 1\n",
    "    sortedVotes = sorted(classVotes.items(), key=operator.itemgetter(1), reverse=True)\n",
    "    print('Votes:',classVotes)\n",
    "    print('Choice:', sortedVotes[0][0])\n",
    "    print()\n",
    "    return sortedVotes[0][0]\n",
    "\n",
    "def test2_Own_kNNclassification(X,y,folds,S, k):\n",
    "    \n",
    "    X_train=X[list(S-folds[0])]\n",
    "    y_train=y[list(S-folds[0])] \n",
    "    X_test=X[list(folds[0])]\n",
    "    y_test=y[list(folds[0])]\n",
    "    y_predicted=[]\n",
    "    for i in range(len(X_test)):\n",
    "        print('round:', i)\n",
    "        neighbors_ind = getNeighbors(X_train, X_test[i], k)\n",
    "        prediction = test_knnPredictClass(neighbors_ind, y_train)\n",
    "        y_predicted.append(prediction)\n",
    "    acc = getAccuracy(y_test, y_predicted)\n",
    "    print('y_test[3]:', y_test[3])\n",
    "    print('y_predicted[3]:', y_predicted[3])\n",
    "    \n",
    "\n",
    "\n",
    "test2_Own_kNNclassification(X,y,folds,S, 12)\n",
    "\n",
    "\n",
    "    "
   ]
  },
  {
   "cell_type": "markdown",
   "metadata": {},
   "source": [
    "We can see here, that on the round 3, the nearest neighbours are: 'Iris-virginica': 6, 'Iris-versicolor': 6. \n",
    "My own classification function chooses Iris-virginica. If it would have chosen Iris-versicolor, the accuracy would have been 100%. So, it is just bad luck, that my own function and the sklearn's KNeighborsClassifier gives different answers."
   ]
  },
  {
   "cell_type": "markdown",
   "metadata": {},
   "source": [
    "I continue with programming a nested CV. I implement nested-cross-validation to estimate the classification accuracy of K-nn method that selects the optimal value k=1…20. The number of folds is 10."
   ]
  },
  {
   "cell_type": "code",
   "execution_count": 19,
   "metadata": {},
   "outputs": [],
   "source": [
    "def inner(X,y):\n",
    "    numberOfFolds=10\n",
    "    folds, S = partition(len(y), numberOfFolds)\n",
    "    accur_k = []\n",
    "    for k in range(1,21):\n",
    "        accuracy = []    \n",
    "        for n in range(len(folds)):\n",
    "            X_train=X[list(S-folds[n])]\n",
    "            y_train=y[list(S-folds[n])] \n",
    "            X_test=X[list(folds[n])]\n",
    "            y_test=y[list(folds[n])]\n",
    "            y_predicted=[]\n",
    "            for i in range(len(X_test)):\n",
    "                neighbors_ind = getNeighbors(X_train, X_test[i], k)\n",
    "                prediction = knnPredictClass(neighbors_ind, y_train)\n",
    "                y_predicted.append(prediction)\n",
    "            acc = getAccuracy(y_test, y_predicted)\n",
    "            accuracy.append(acc)\n",
    "        accur_k.append(np.mean(accuracy))\n",
    "    return np.argmax(accur_k)+1"
   ]
  },
  {
   "cell_type": "code",
   "execution_count": 20,
   "metadata": {},
   "outputs": [],
   "source": [
    "def outer(X_inner,y_inner,X_outer,y_outer, k):\n",
    "    y_predicted=[]\n",
    "    for i in range(len(X_outer)):\n",
    "        neighbors_ind = getNeighbors(X_inner, X_outer[i], k)\n",
    "        prediction = knnPredictClass(neighbors_ind, y_inner)\n",
    "        y_predicted.append(prediction)\n",
    "    acc = getAccuracy(y_outer, y_predicted)\n",
    "    return acc"
   ]
  },
  {
   "cell_type": "code",
   "execution_count": 21,
   "metadata": {},
   "outputs": [
    {
     "name": "stdout",
     "output_type": "stream",
     "text": [
      "accuracy:  98.0\n"
     ]
    }
   ],
   "source": [
    "accuracy_outer=[]\n",
    "k_best_outer=[]\n",
    "numberOfFolds=10\n",
    "folds, S = partition(len(y), numberOfFolds)\n",
    "for n in range(len(folds)):\n",
    "    X_inner=X[list(S-folds[n])]\n",
    "    y_inner=y[list(S-folds[n])]  \n",
    "    X_outer=X[list(folds[n])]\n",
    "    y_outer=y[list(folds[n])]\n",
    "    k_best=inner(X_inner,y_inner)\n",
    "    k_best_outer.append(k_best)\n",
    "    acc_out=outer(X_inner,y_inner,X_outer,y_outer, k_best)\n",
    "    accuracy_outer.append(acc_out)\n",
    "\n",
    "print('accuracy: ', np.mean(accuracy_outer))"
   ]
  },
  {
   "cell_type": "markdown",
   "metadata": {},
   "source": [
    "I am a little bit supprised that the estimation for classification accuracy with nested CV is the same than the best accuracy earlier. I expected it to be little less. Therefore I want to check the values of best k and accuracy on every round."
   ]
  },
  {
   "cell_type": "code",
   "execution_count": 22,
   "metadata": {},
   "outputs": [
    {
     "name": "stdout",
     "output_type": "stream",
     "text": [
      "k: [11, 11, 8, 13, 12, 17, 7, 13, 7, 17]\n",
      "accuracy: [100.0, 100.0, 93.33333333333333, 93.33333333333333, 100.0, 100.0, 93.33333333333333, 100.0, 100.0, 100.0]\n"
     ]
    }
   ],
   "source": [
    "print('k:', k_best_outer)\n",
    "print('accuracy:',accuracy_outer)"
   ]
  },
  {
   "cell_type": "markdown",
   "metadata": {},
   "source": [
    "The accuracy derives between 93% and 100%. I can believe that :) \n"
   ]
  }
 ],
 "metadata": {
  "kernelspec": {
   "display_name": "Python 3",
   "language": "python",
   "name": "python3"
  },
  "language_info": {
   "codemirror_mode": {
    "name": "ipython",
    "version": 3
   },
   "file_extension": ".py",
   "mimetype": "text/x-python",
   "name": "python",
   "nbconvert_exporter": "python",
   "pygments_lexer": "ipython3",
   "version": "3.7.0"
  }
 },
 "nbformat": 4,
 "nbformat_minor": 2
}
