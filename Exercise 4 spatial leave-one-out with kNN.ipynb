{
 "cells": [
  {
   "cell_type": "markdown",
   "metadata": {},
   "source": [
    "## Assignment 4: spatial leave-one-out with kNN\n",
    "The point of this exercise is to investigate the spatial prediction performance of k-nearest neighbor algorithm with the provided data set. "
   ]
  },
  {
   "cell_type": "code",
   "execution_count": 1,
   "metadata": {},
   "outputs": [],
   "source": [
    "import numpy as np\n",
    "import matplotlib.pyplot as plt\n",
    "import pandas as pd\n",
    "from scipy.spatial.distance import pdist\n",
    "from scipy.spatial.distance import squareform\n",
    "from sklearn.model_selection import LeaveOneOut\n",
    "from sklearn.neighbors import KNeighborsRegressor"
   ]
  },
  {
   "cell_type": "markdown",
   "metadata": {},
   "source": [
    "First I read in the data. There are three different datasets:\n",
    "* coordinates: coordinates of the 1691 labeled datapoints (coordinates)\n",
    "* input: 95 features (X)\n",
    "* output: labels (y), water permeability level of soil"
   ]
  },
  {
   "cell_type": "code",
   "execution_count": 2,
   "metadata": {},
   "outputs": [
    {
     "name": "stdout",
     "output_type": "stream",
     "text": [
      "          0          1\n",
      "0  459140.0  7524200.0\n",
      "1  461590.0  7549000.0\n",
      "2  462040.0  7549300.0\n",
      "3  462040.0  7549300.0\n",
      "4  462130.0  7549400.0\n",
      "(1691, 2)\n"
     ]
    }
   ],
   "source": [
    "df_c=pd.read_csv('COORDINATES.csv', header = None)\n",
    "print(df_c.head())\n",
    "print(df_c.shape)\n",
    "coordinates = df_c.values"
   ]
  },
  {
   "cell_type": "code",
   "execution_count": 3,
   "metadata": {},
   "outputs": [
    {
     "name": "stdout",
     "output_type": "stream",
     "text": [
      "   0    1    2    3   4   5    6     7    8    9    ...        85      86  \\\n",
      "0   0  464  537  139  53  35  294  1151  236  211   ...    0.2222  0.2222   \n",
      "1   0  328  404  107  38  36  211   848  392  475   ...    0.2222  0.1111   \n",
      "2   1  182  219   56  21  36  116   437  108  128   ...    0.0000  0.0000   \n",
      "3   0  206  268   64  27  24  145   564  253  329   ...    0.0000  0.0000   \n",
      "4   0   99  114   30  10  26   58   232  265  230   ...    0.0000  0.0000   \n",
      "\n",
      "       87      88      89      90      91      92      93      94  \n",
      "0  0.0000  0.0000  0.0000  295.07 -0.0001  2.3657  0.0171  0.0347  \n",
      "1  0.0000  0.4444  0.0000  257.99 -0.0002  0.7365  0.0088  0.0347  \n",
      "2  0.0000  0.0000  0.0000  254.19 -0.0003  2.9106  0.0671 -4.1155  \n",
      "3  0.0000  0.0000  0.0000  253.84  0.0004  3.0498  0.0658 -4.3973  \n",
      "4  0.3333  0.2222  0.2222  257.65 -0.0001  2.0997  0.0303 -0.9330  \n",
      "\n",
      "[5 rows x 95 columns]\n",
      "(1691, 95)\n"
     ]
    }
   ],
   "source": [
    "df_X=pd.read_csv('INPUT.csv', header= None)\n",
    "print(df_X.head())\n",
    "print(df_X.shape)"
   ]
  },
  {
   "cell_type": "markdown",
   "metadata": {},
   "source": [
    "Because I will use K-Nearest Neighbors Regression, which utilizes distances between input data points, I have to normalize the feature matrix. I use z-score to normalize X."
   ]
  },
  {
   "cell_type": "code",
   "execution_count": 4,
   "metadata": {},
   "outputs": [
    {
     "data": {
      "text/html": [
       "<div>\n",
       "<style scoped>\n",
       "    .dataframe tbody tr th:only-of-type {\n",
       "        vertical-align: middle;\n",
       "    }\n",
       "\n",
       "    .dataframe tbody tr th {\n",
       "        vertical-align: top;\n",
       "    }\n",
       "\n",
       "    .dataframe thead th {\n",
       "        text-align: right;\n",
       "    }\n",
       "</style>\n",
       "<table border=\"1\" class=\"dataframe\">\n",
       "  <thead>\n",
       "    <tr style=\"text-align: right;\">\n",
       "      <th></th>\n",
       "      <th>0</th>\n",
       "      <th>1</th>\n",
       "      <th>2</th>\n",
       "      <th>3</th>\n",
       "      <th>4</th>\n",
       "      <th>5</th>\n",
       "      <th>6</th>\n",
       "      <th>7</th>\n",
       "      <th>8</th>\n",
       "      <th>9</th>\n",
       "      <th>...</th>\n",
       "      <th>85</th>\n",
       "      <th>86</th>\n",
       "      <th>87</th>\n",
       "      <th>88</th>\n",
       "      <th>89</th>\n",
       "      <th>90</th>\n",
       "      <th>91</th>\n",
       "      <th>92</th>\n",
       "      <th>93</th>\n",
       "      <th>94</th>\n",
       "    </tr>\n",
       "  </thead>\n",
       "  <tbody>\n",
       "    <tr>\n",
       "      <th>count</th>\n",
       "      <td>1.691000e+03</td>\n",
       "      <td>1.691000e+03</td>\n",
       "      <td>1.691000e+03</td>\n",
       "      <td>1.691000e+03</td>\n",
       "      <td>1.691000e+03</td>\n",
       "      <td>1.691000e+03</td>\n",
       "      <td>1.691000e+03</td>\n",
       "      <td>1.691000e+03</td>\n",
       "      <td>1.691000e+03</td>\n",
       "      <td>1.691000e+03</td>\n",
       "      <td>...</td>\n",
       "      <td>1.691000e+03</td>\n",
       "      <td>1.691000e+03</td>\n",
       "      <td>1.691000e+03</td>\n",
       "      <td>1.691000e+03</td>\n",
       "      <td>1.691000e+03</td>\n",
       "      <td>1.691000e+03</td>\n",
       "      <td>1.691000e+03</td>\n",
       "      <td>1.691000e+03</td>\n",
       "      <td>1.691000e+03</td>\n",
       "      <td>1.691000e+03</td>\n",
       "    </tr>\n",
       "    <tr>\n",
       "      <th>mean</th>\n",
       "      <td>-6.048122e-16</td>\n",
       "      <td>-1.105890e-15</td>\n",
       "      <td>5.609548e-16</td>\n",
       "      <td>3.710810e-16</td>\n",
       "      <td>-4.228170e-16</td>\n",
       "      <td>-1.426023e-16</td>\n",
       "      <td>-2.300020e-15</td>\n",
       "      <td>-5.449350e-16</td>\n",
       "      <td>-4.222918e-16</td>\n",
       "      <td>2.862550e-16</td>\n",
       "      <td>...</td>\n",
       "      <td>6.829447e-15</td>\n",
       "      <td>1.021202e-14</td>\n",
       "      <td>7.931496e-15</td>\n",
       "      <td>-1.605523e-15</td>\n",
       "      <td>-2.549771e-15</td>\n",
       "      <td>-7.685816e-15</td>\n",
       "      <td>3.863786e-16</td>\n",
       "      <td>-1.976867e-16</td>\n",
       "      <td>1.837810e-15</td>\n",
       "      <td>5.924691e-16</td>\n",
       "    </tr>\n",
       "    <tr>\n",
       "      <th>std</th>\n",
       "      <td>1.000000e+00</td>\n",
       "      <td>1.000000e+00</td>\n",
       "      <td>1.000000e+00</td>\n",
       "      <td>1.000000e+00</td>\n",
       "      <td>1.000000e+00</td>\n",
       "      <td>1.000000e+00</td>\n",
       "      <td>1.000000e+00</td>\n",
       "      <td>1.000000e+00</td>\n",
       "      <td>1.000000e+00</td>\n",
       "      <td>1.000000e+00</td>\n",
       "      <td>...</td>\n",
       "      <td>1.000000e+00</td>\n",
       "      <td>1.000000e+00</td>\n",
       "      <td>1.000000e+00</td>\n",
       "      <td>1.000000e+00</td>\n",
       "      <td>1.000000e+00</td>\n",
       "      <td>1.000000e+00</td>\n",
       "      <td>1.000000e+00</td>\n",
       "      <td>1.000000e+00</td>\n",
       "      <td>1.000000e+00</td>\n",
       "      <td>1.000000e+00</td>\n",
       "    </tr>\n",
       "    <tr>\n",
       "      <th>min</th>\n",
       "      <td>-2.725600e-01</td>\n",
       "      <td>-1.110629e+00</td>\n",
       "      <td>-1.133639e+00</td>\n",
       "      <td>-1.080634e+00</td>\n",
       "      <td>-1.181473e+00</td>\n",
       "      <td>-1.130180e+00</td>\n",
       "      <td>-1.219529e+00</td>\n",
       "      <td>-1.134232e+00</td>\n",
       "      <td>-1.481504e+00</td>\n",
       "      <td>-1.216595e+00</td>\n",
       "      <td>...</td>\n",
       "      <td>-1.047414e+00</td>\n",
       "      <td>-8.773768e-01</td>\n",
       "      <td>-6.450629e-01</td>\n",
       "      <td>-5.197639e-01</td>\n",
       "      <td>-4.469571e-01</td>\n",
       "      <td>-1.958934e+00</td>\n",
       "      <td>-1.013569e+01</td>\n",
       "      <td>-2.101941e+00</td>\n",
       "      <td>-1.267605e+00</td>\n",
       "      <td>-2.851510e+00</td>\n",
       "    </tr>\n",
       "    <tr>\n",
       "      <th>25%</th>\n",
       "      <td>-2.725600e-01</td>\n",
       "      <td>-6.277071e-01</td>\n",
       "      <td>-6.148404e-01</td>\n",
       "      <td>-6.286841e-01</td>\n",
       "      <td>-6.217260e-01</td>\n",
       "      <td>-6.332841e-01</td>\n",
       "      <td>-6.441661e-01</td>\n",
       "      <td>-6.127482e-01</td>\n",
       "      <td>-6.865239e-01</td>\n",
       "      <td>-6.561353e-01</td>\n",
       "      <td>...</td>\n",
       "      <td>-4.139692e-01</td>\n",
       "      <td>-8.773768e-01</td>\n",
       "      <td>-6.450629e-01</td>\n",
       "      <td>-5.197639e-01</td>\n",
       "      <td>-4.469571e-01</td>\n",
       "      <td>-7.120464e-01</td>\n",
       "      <td>-1.590770e-01</td>\n",
       "      <td>-6.882860e-01</td>\n",
       "      <td>-7.352028e-01</td>\n",
       "      <td>-5.237180e-01</td>\n",
       "    </tr>\n",
       "    <tr>\n",
       "      <th>50%</th>\n",
       "      <td>-2.725600e-01</td>\n",
       "      <td>-4.111241e-01</td>\n",
       "      <td>-3.640466e-01</td>\n",
       "      <td>-4.298259e-01</td>\n",
       "      <td>-3.285250e-01</td>\n",
       "      <td>-2.836169e-01</td>\n",
       "      <td>-2.928381e-01</td>\n",
       "      <td>-3.664919e-01</td>\n",
       "      <td>-1.731938e-01</td>\n",
       "      <td>-2.118688e-01</td>\n",
       "      <td>...</td>\n",
       "      <td>-4.139692e-01</td>\n",
       "      <td>-1.692086e-01</td>\n",
       "      <td>-6.450629e-01</td>\n",
       "      <td>-5.197639e-01</td>\n",
       "      <td>-4.469571e-01</td>\n",
       "      <td>-3.736185e-01</td>\n",
       "      <td>8.725925e-02</td>\n",
       "      <td>5.417340e-02</td>\n",
       "      <td>-2.007047e-01</td>\n",
       "      <td>-8.624495e-02</td>\n",
       "    </tr>\n",
       "    <tr>\n",
       "      <th>75%</th>\n",
       "      <td>-2.725600e-01</td>\n",
       "      <td>5.225242e-01</td>\n",
       "      <td>5.407780e-01</td>\n",
       "      <td>6.367769e-01</td>\n",
       "      <td>5.377505e-01</td>\n",
       "      <td>3.421034e-01</td>\n",
       "      <td>5.320190e-01</td>\n",
       "      <td>6.535403e-01</td>\n",
       "      <td>6.535856e-01</td>\n",
       "      <td>1.913885e-01</td>\n",
       "      <td>...</td>\n",
       "      <td>2.194760e-01</td>\n",
       "      <td>5.389595e-01</td>\n",
       "      <td>2.692491e-01</td>\n",
       "      <td>2.288536e-01</td>\n",
       "      <td>-4.469571e-01</td>\n",
       "      <td>3.966515e-01</td>\n",
       "      <td>3.335955e-01</td>\n",
       "      <td>5.649406e-01</td>\n",
       "      <td>5.266320e-01</td>\n",
       "      <td>2.826275e-01</td>\n",
       "    </tr>\n",
       "    <tr>\n",
       "      <th>max</th>\n",
       "      <td>3.666747e+00</td>\n",
       "      <td>3.531272e+00</td>\n",
       "      <td>3.756839e+00</td>\n",
       "      <td>3.981210e+00</td>\n",
       "      <td>3.376469e+00</td>\n",
       "      <td>6.176024e+00</td>\n",
       "      <td>3.026957e+00</td>\n",
       "      <td>3.794515e+00</td>\n",
       "      <td>4.342294e+00</td>\n",
       "      <td>4.654558e+00</td>\n",
       "      <td>...</td>\n",
       "      <td>4.654162e+00</td>\n",
       "      <td>4.788606e+00</td>\n",
       "      <td>5.755944e+00</td>\n",
       "      <td>3.972615e+00</td>\n",
       "      <td>4.367085e+00</td>\n",
       "      <td>4.251411e+00</td>\n",
       "      <td>5.137152e+00</td>\n",
       "      <td>6.366342e+00</td>\n",
       "      <td>6.978339e+00</td>\n",
       "      <td>1.295089e+01</td>\n",
       "    </tr>\n",
       "  </tbody>\n",
       "</table>\n",
       "<p>8 rows × 95 columns</p>\n",
       "</div>"
      ],
      "text/plain": [
       "                 0             1             2             3             4   \\\n",
       "count  1.691000e+03  1.691000e+03  1.691000e+03  1.691000e+03  1.691000e+03   \n",
       "mean  -6.048122e-16 -1.105890e-15  5.609548e-16  3.710810e-16 -4.228170e-16   \n",
       "std    1.000000e+00  1.000000e+00  1.000000e+00  1.000000e+00  1.000000e+00   \n",
       "min   -2.725600e-01 -1.110629e+00 -1.133639e+00 -1.080634e+00 -1.181473e+00   \n",
       "25%   -2.725600e-01 -6.277071e-01 -6.148404e-01 -6.286841e-01 -6.217260e-01   \n",
       "50%   -2.725600e-01 -4.111241e-01 -3.640466e-01 -4.298259e-01 -3.285250e-01   \n",
       "75%   -2.725600e-01  5.225242e-01  5.407780e-01  6.367769e-01  5.377505e-01   \n",
       "max    3.666747e+00  3.531272e+00  3.756839e+00  3.981210e+00  3.376469e+00   \n",
       "\n",
       "                 5             6             7             8             9   \\\n",
       "count  1.691000e+03  1.691000e+03  1.691000e+03  1.691000e+03  1.691000e+03   \n",
       "mean  -1.426023e-16 -2.300020e-15 -5.449350e-16 -4.222918e-16  2.862550e-16   \n",
       "std    1.000000e+00  1.000000e+00  1.000000e+00  1.000000e+00  1.000000e+00   \n",
       "min   -1.130180e+00 -1.219529e+00 -1.134232e+00 -1.481504e+00 -1.216595e+00   \n",
       "25%   -6.332841e-01 -6.441661e-01 -6.127482e-01 -6.865239e-01 -6.561353e-01   \n",
       "50%   -2.836169e-01 -2.928381e-01 -3.664919e-01 -1.731938e-01 -2.118688e-01   \n",
       "75%    3.421034e-01  5.320190e-01  6.535403e-01  6.535856e-01  1.913885e-01   \n",
       "max    6.176024e+00  3.026957e+00  3.794515e+00  4.342294e+00  4.654558e+00   \n",
       "\n",
       "           ...                 85            86            87            88  \\\n",
       "count      ...       1.691000e+03  1.691000e+03  1.691000e+03  1.691000e+03   \n",
       "mean       ...       6.829447e-15  1.021202e-14  7.931496e-15 -1.605523e-15   \n",
       "std        ...       1.000000e+00  1.000000e+00  1.000000e+00  1.000000e+00   \n",
       "min        ...      -1.047414e+00 -8.773768e-01 -6.450629e-01 -5.197639e-01   \n",
       "25%        ...      -4.139692e-01 -8.773768e-01 -6.450629e-01 -5.197639e-01   \n",
       "50%        ...      -4.139692e-01 -1.692086e-01 -6.450629e-01 -5.197639e-01   \n",
       "75%        ...       2.194760e-01  5.389595e-01  2.692491e-01  2.288536e-01   \n",
       "max        ...       4.654162e+00  4.788606e+00  5.755944e+00  3.972615e+00   \n",
       "\n",
       "                 89            90            91            92            93  \\\n",
       "count  1.691000e+03  1.691000e+03  1.691000e+03  1.691000e+03  1.691000e+03   \n",
       "mean  -2.549771e-15 -7.685816e-15  3.863786e-16 -1.976867e-16  1.837810e-15   \n",
       "std    1.000000e+00  1.000000e+00  1.000000e+00  1.000000e+00  1.000000e+00   \n",
       "min   -4.469571e-01 -1.958934e+00 -1.013569e+01 -2.101941e+00 -1.267605e+00   \n",
       "25%   -4.469571e-01 -7.120464e-01 -1.590770e-01 -6.882860e-01 -7.352028e-01   \n",
       "50%   -4.469571e-01 -3.736185e-01  8.725925e-02  5.417340e-02 -2.007047e-01   \n",
       "75%   -4.469571e-01  3.966515e-01  3.335955e-01  5.649406e-01  5.266320e-01   \n",
       "max    4.367085e+00  4.251411e+00  5.137152e+00  6.366342e+00  6.978339e+00   \n",
       "\n",
       "                 94  \n",
       "count  1.691000e+03  \n",
       "mean   5.924691e-16  \n",
       "std    1.000000e+00  \n",
       "min   -2.851510e+00  \n",
       "25%   -5.237180e-01  \n",
       "50%   -8.624495e-02  \n",
       "75%    2.826275e-01  \n",
       "max    1.295089e+01  \n",
       "\n",
       "[8 rows x 95 columns]"
      ]
     },
     "execution_count": 4,
     "metadata": {},
     "output_type": "execute_result"
    }
   ],
   "source": [
    "#standardization function\n",
    "zscore = lambda x: (x - x.mean()) / x.std()\n",
    "#new standardized dataframe\n",
    "df_Xs= df_X.copy()\n",
    "df_Xs = df_Xs.transform(zscore)\n",
    "df_Xs.describe()"
   ]
  },
  {
   "cell_type": "code",
   "execution_count": 5,
   "metadata": {},
   "outputs": [],
   "source": [
    "X = df_Xs.values"
   ]
  },
  {
   "cell_type": "code",
   "execution_count": 6,
   "metadata": {},
   "outputs": [
    {
     "name": "stdout",
     "output_type": "stream",
     "text": [
      "        0\n",
      "0  5.8359\n",
      "1  6.2592\n",
      "2  6.9041\n",
      "3  6.2065\n",
      "4  7.0642\n",
      "(1691, 1)\n"
     ]
    }
   ],
   "source": [
    "df_y=pd.read_csv('OUTPUT.csv', header= None)\n",
    "print(df_y.head())\n",
    "print(df_y.shape)\n",
    "y = df_y.values"
   ]
  },
  {
   "cell_type": "markdown",
   "metadata": {},
   "source": [
    "I will use C-index as the accuracy measure (how well the model captures the relative ordering/ranking of the data points)."
   ]
  },
  {
   "cell_type": "code",
   "execution_count": 7,
   "metadata": {},
   "outputs": [],
   "source": [
    "# function calculates C-index\n",
    "def cIndex(y_true, y_predicted):\n",
    "    n=0       # number of true[j] that are not same than true[i]\n",
    "    h_sum=0   # predicted[i] and predicted[j] are in same order than true[i] and true[j]\n",
    "    for i in range(len(y_true)):\n",
    "        t=y_true[i]\n",
    "        p=y_predicted[i]\n",
    "        for j in range((i+1), len(y_true)): # following values\n",
    "            nt=y_true[j]\n",
    "            np=y_predicted[j] \n",
    "            if (t != nt): # following true value is not the same\n",
    "                n=n+1\n",
    "                if (t < nt and p < np) or (t > nt and p > np): # same order\n",
    "                    h_sum = h_sum+1\n",
    "                elif (p==np):\n",
    "                    h_sum = h_sum + 0.5\n",
    "    return h_sum/n "
   ]
  },
  {
   "cell_type": "markdown",
   "metadata": {},
   "source": [
    "In the spatial leave-one-out cross validation we prevent the effect of spatial autocorrelation in cross validation performance estimation by removing training data too close to the test data. The notion of ”too close” is quantified by a distance value called the ”dead zone radius”.\n",
    "\n",
    "I need a function, which returns the set of the indices of the training data points too close to the test point. But before that I use scipy.spatial.distance.pdist to calculate pairwise distances between coordinates."
   ]
  },
  {
   "cell_type": "code",
   "execution_count": 8,
   "metadata": {},
   "outputs": [
    {
     "data": {
      "text/plain": [
       "array([[    0.        , 24920.72430729, 25266.97449241, ...,\n",
       "        64022.74986284, 64426.31139527, 64580.18581577],\n",
       "       [24920.72430729,     0.        ,   540.83269132, ...,\n",
       "        53794.14466278, 53906.56824544, 54039.06827472],\n",
       "       [25266.97449241,   540.83269132,     0.        , ...,\n",
       "        53311.7482362 , 53420.61025484, 53552.74409402],\n",
       "       ...,\n",
       "       [64022.74986284, 53794.14466278, 53311.7482362 , ...,\n",
       "            0.        ,   800.06249756,   909.3404203 ],\n",
       "       [64426.31139527, 53906.56824544, 53420.61025484, ...,\n",
       "          800.06249756,     0.        ,   156.20499352],\n",
       "       [64580.18581577, 54039.06827472, 53552.74409402, ...,\n",
       "          909.3404203 ,   156.20499352,     0.        ]])"
      ]
     },
     "execution_count": 8,
     "metadata": {},
     "output_type": "execute_result"
    }
   ],
   "source": [
    "# pairwise distances between coordinates\n",
    "d_v = pdist(coordinates, 'euclidean')\n",
    "#reformats the distance information returned by pdist from a vector into a square matrix. \n",
    "D = squareform(d_v)\n",
    "D"
   ]
  },
  {
   "cell_type": "code",
   "execution_count": 21,
   "metadata": {},
   "outputs": [],
   "source": [
    "def detect_dead_zone(D,test_index, radius): # D = distance matrix\n",
    "    d=D[test_index]                         \n",
    "    dead_zone_ind = np.argwhere(d <= radius) \n",
    "    return set(dead_zone_ind.flatten())     "
   ]
  },
  {
   "cell_type": "markdown",
   "metadata": {},
   "source": [
    "Now I am ready for spatial leave-one-out cross validation (SLOO) with kNN. I use LeaveOneOut and KNeighborsRegressor from Scikit-learn library."
   ]
  },
  {
   "cell_type": "code",
   "execution_count": 29,
   "metadata": {},
   "outputs": [],
   "source": [
    "loo = LeaveOneOut()\n",
    "\n",
    "def sloo_knn(X, y, k, S, D, radius):\n",
    "    y_predicted= np.zeros(len(y))\n",
    "    for train_index, test_index in loo.split(X):\n",
    "        # based on normal loo\n",
    "        X_test=X[test_index]\n",
    "        y_test=y[test_index]\n",
    "        # detects and removes training data too close to the test data, removes also the test instance\n",
    "        dead_zone_ind_set = detect_dead_zone(D, test_index, radius)\n",
    "        X_train=X[list(S-dead_zone_ind_set)]\n",
    "        y_train=y[list(S-dead_zone_ind_set)]\n",
    "        #kNN\n",
    "        knn = KNeighborsRegressor(k)\n",
    "        knn.fit(X_train,y_train)\n",
    "        y_predicted[test_index] = knn.predict(X_test)\n",
    "    C_index= cIndex(y, y_predicted)\n",
    "    # print('radius =', radius, ', k =',k,': C-index =', C_index) (used only for testing)\n",
    "    return C_index\n",
    "\n"
   ]
  },
  {
   "cell_type": "markdown",
   "metadata": {},
   "source": [
    "I implement sloo_knn for the following dead zone radiuses: radius = 0, 10, ..., 200 (that is, 10 meter intervals).\n",
    "For each dead zone radius, I try the k-values [1, 3, 5, 7, 9] in kNN in order to find the best value of k for each d.  "
   ]
  },
  {
   "cell_type": "code",
   "execution_count": 30,
   "metadata": {},
   "outputs": [
    {
     "name": "stdout",
     "output_type": "stream",
     "text": [
      "[0, 10, 20, 30, 40, 50, 60, 70, 80, 90, 100, 110, 120, 130, 140, 150, 160, 170, 180, 190, 200]\n",
      "[1, 3, 5, 7, 9]\n"
     ]
    }
   ],
   "source": [
    "l_radius = list(range(0,201,10)) \n",
    "l_k = list(range(1,10,2))     \n",
    "print(l_radius)\n",
    "print(l_k)\n",
    "S = set(range(len(D)))"
   ]
  },
  {
   "cell_type": "code",
   "execution_count": 31,
   "metadata": {},
   "outputs": [
    {
     "name": "stdout",
     "output_type": "stream",
     "text": [
      "radius = 0 , best k = 9 : C-index = 0.7216230196450095\n",
      "radius = 10 , best k = 9 : C-index = 0.7118687607530984\n",
      "radius = 20 , best k = 9 : C-index = 0.7113976893000284\n",
      "radius = 30 , best k = 7 : C-index = 0.7054938970698376\n",
      "radius = 40 , best k = 9 : C-index = 0.7037310538981337\n",
      "radius = 50 , best k = 9 : C-index = 0.7004013556778459\n",
      "radius = 60 , best k = 9 : C-index = 0.6986441121668027\n",
      "radius = 70 , best k = 9 : C-index = 0.6940376913159062\n",
      "radius = 80 , best k = 9 : C-index = 0.6906201484190058\n",
      "radius = 90 , best k = 7 : C-index = 0.6891771858625367\n",
      "radius = 100 , best k = 7 : C-index = 0.687692925808696\n",
      "radius = 110 , best k = 7 : C-index = 0.6560481934794752\n",
      "radius = 120 , best k = 7 : C-index = 0.6356706783568916\n",
      "radius = 130 , best k = 7 : C-index = 0.6227470115311012\n",
      "radius = 140 , best k = 7 : C-index = 0.620645038910642\n",
      "radius = 150 , best k = 7 : C-index = 0.618361777276297\n",
      "radius = 160 , best k = 7 : C-index = 0.619393514753006\n",
      "radius = 170 , best k = 7 : C-index = 0.6186337107971257\n",
      "radius = 180 , best k = 7 : C-index = 0.6179106546143304\n",
      "radius = 190 , best k = 7 : C-index = 0.6179075048052088\n",
      "radius = 200 , best k = 7 : C-index = 0.6164561427577488\n"
     ]
    }
   ],
   "source": [
    "best_C_indices = [] # the best value of C-index for each dead zone radius\n",
    "#best_k = []         # the best value of k for each dead zone radius (not needed)\n",
    "\n",
    "for radius in l_radius:\n",
    "    c_indices = []  # the values of C-indices for each k with this radius\n",
    "    for k in l_k:     \n",
    "        C_index = sloo_knn(X, y, k, S, D, radius) # the value of C-index with this radius and this k\n",
    "        c_indices.append(C_index)\n",
    "    best_C_indices.append(np.max(c_indices))\n",
    "    # best_k.append(2 * np.argmax(c_indices) + 1) (not needed)\n",
    "    print('radius =', radius, ', best k =', 2 * np.argmax(c_indices) + 1,': C-index =', np.max(c_indices))\n",
    "    "
   ]
  },
  {
   "cell_type": "code",
   "execution_count": 33,
   "metadata": {},
   "outputs": [
    {
     "data": {
      "image/png": "[encoded data removed]",
      "text/plain": [
       "<Figure size 432x288 with 1 Axes>"
      ]
     },
     "metadata": {
      "needs_background": "light"
     },
     "output_type": "display_data"
    }
   ],
   "source": [
    "plt.plot(l_radius, best_C_indices )\n",
    "plt.title('C-index of different radius')\n",
    "plt.ylabel('C-index')\n",
    "plt.xlabel('dead zone radius')\n",
    "plt.show()"
   ]
  }
 ],
 "metadata": {
  "kernelspec": {
   "display_name": "Python 3",
   "language": "python",
   "name": "python3"
  },
  "language_info": {
   "codemirror_mode": {
    "name": "ipython",
    "version": 3
   },
   "file_extension": ".py",
   "mimetype": "text/x-python",
   "name": "python",
   "nbconvert_exporter": "python",
   "pygments_lexer": "ipython3",
   "version": "3.7.0"
  }
 },
 "nbformat": 4,
 "nbformat_minor": 2
}
