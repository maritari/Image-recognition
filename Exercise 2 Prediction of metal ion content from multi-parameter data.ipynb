{
 "cells": [
  {
   "cell_type": "markdown",
   "metadata": {},
   "source": [
    "## Prediction of metal ion content from multi-parameter data\n"
   ]
  },
  {
   "cell_type": "code",
   "execution_count": 2,
   "metadata": {},
   "outputs": [],
   "source": [
    "import numpy as np \n",
    "import matplotlib.pyplot as plt\n",
    "import pandas as pd\n",
    "import math"
   ]
  },
  {
   "cell_type": "markdown",
   "metadata": {},
   "source": [
    "First I read in the data. It is a multi-parameter dataset consisting of 201 samples obtained from 67 mixtures of Cadmium, Lead, and tap water.  Three features (attributes) were measured for each sample (Mod1, Mod2, Mod3).\n",
    "\n",
    "The task is to use K-Nearest Neighbor Regression to predict total metal concentration (c_total), concentration of Cadmium (Cd) and concentration of Lead (Pb), for each sample using number of neighbors k = 1, 2, 3, 4 and 5. "
   ]
  },
  {
   "cell_type": "code",
   "execution_count": 3,
   "metadata": {},
   "outputs": [
    {
     "name": "stdout",
     "output_type": "stream",
     "text": [
      "   c_total   Cd    Pb   Mod1  Mod2    Mod3\n",
      "0        0  0.0   0.0   9945   119   72335\n",
      "1        0  0.0   0.0  10786   117   82977\n",
      "2        0  0.0   0.0  10812   120   98594\n",
      "3       14  0.0  14.0   9742   127  154323\n",
      "4       14  0.0  14.0  10566   108  136416\n"
     ]
    },
    {
     "data": {
      "text/plain": [
       "(201, 6)"
      ]
     },
     "execution_count": 3,
     "metadata": {},
     "output_type": "execute_result"
    }
   ],
   "source": [
    "df=pd.read_csv('Dataset.csv')\n",
    "print(df.head())\n",
    "df.shape"
   ]
  },
  {
   "cell_type": "code",
   "execution_count": 4,
   "metadata": {},
   "outputs": [
    {
     "data": {
      "text/html": [
       "<div>\n",
       "<style scoped>\n",
       "    .dataframe tbody tr th:only-of-type {\n",
       "        vertical-align: middle;\n",
       "    }\n",
       "\n",
       "    .dataframe tbody tr th {\n",
       "        vertical-align: top;\n",
       "    }\n",
       "\n",
       "    .dataframe thead th {\n",
       "        text-align: right;\n",
       "    }\n",
       "</style>\n",
       "<table border=\"1\" class=\"dataframe\">\n",
       "  <thead>\n",
       "    <tr style=\"text-align: right;\">\n",
       "      <th></th>\n",
       "      <th>c_total</th>\n",
       "      <th>Cd</th>\n",
       "      <th>Pb</th>\n",
       "      <th>Mod1</th>\n",
       "      <th>Mod2</th>\n",
       "      <th>Mod3</th>\n",
       "    </tr>\n",
       "  </thead>\n",
       "  <tbody>\n",
       "    <tr>\n",
       "      <th>count</th>\n",
       "      <td>201.000000</td>\n",
       "      <td>201.000000</td>\n",
       "      <td>201.000000</td>\n",
       "      <td>201.000000</td>\n",
       "      <td>201.000000</td>\n",
       "      <td>201.000000</td>\n",
       "    </tr>\n",
       "    <tr>\n",
       "      <th>mean</th>\n",
       "      <td>804.985075</td>\n",
       "      <td>402.492537</td>\n",
       "      <td>402.492537</td>\n",
       "      <td>104667.039801</td>\n",
       "      <td>7882.034826</td>\n",
       "      <td>92799.567164</td>\n",
       "    </tr>\n",
       "    <tr>\n",
       "      <th>std</th>\n",
       "      <td>1441.037444</td>\n",
       "      <td>915.092372</td>\n",
       "      <td>915.092372</td>\n",
       "      <td>97722.036782</td>\n",
       "      <td>11618.700600</td>\n",
       "      <td>61226.844509</td>\n",
       "    </tr>\n",
       "    <tr>\n",
       "      <th>min</th>\n",
       "      <td>0.000000</td>\n",
       "      <td>0.000000</td>\n",
       "      <td>0.000000</td>\n",
       "      <td>7919.000000</td>\n",
       "      <td>101.000000</td>\n",
       "      <td>2153.000000</td>\n",
       "    </tr>\n",
       "    <tr>\n",
       "      <th>25%</th>\n",
       "      <td>35.000000</td>\n",
       "      <td>8.000000</td>\n",
       "      <td>8.000000</td>\n",
       "      <td>20515.000000</td>\n",
       "      <td>317.000000</td>\n",
       "      <td>24312.000000</td>\n",
       "    </tr>\n",
       "    <tr>\n",
       "      <th>50%</th>\n",
       "      <td>100.000000</td>\n",
       "      <td>40.000000</td>\n",
       "      <td>40.000000</td>\n",
       "      <td>55911.000000</td>\n",
       "      <td>2708.000000</td>\n",
       "      <td>107854.000000</td>\n",
       "    </tr>\n",
       "    <tr>\n",
       "      <th>75%</th>\n",
       "      <td>1000.000000</td>\n",
       "      <td>300.000000</td>\n",
       "      <td>300.000000</td>\n",
       "      <td>174644.000000</td>\n",
       "      <td>8047.000000</td>\n",
       "      <td>143333.000000</td>\n",
       "    </tr>\n",
       "    <tr>\n",
       "      <th>max</th>\n",
       "      <td>5000.000000</td>\n",
       "      <td>5000.000000</td>\n",
       "      <td>5000.000000</td>\n",
       "      <td>304601.000000</td>\n",
       "      <td>42466.000000</td>\n",
       "      <td>210270.000000</td>\n",
       "    </tr>\n",
       "  </tbody>\n",
       "</table>\n",
       "</div>"
      ],
      "text/plain": [
       "           c_total           Cd           Pb           Mod1          Mod2  \\\n",
       "count   201.000000   201.000000   201.000000     201.000000    201.000000   \n",
       "mean    804.985075   402.492537   402.492537  104667.039801   7882.034826   \n",
       "std    1441.037444   915.092372   915.092372   97722.036782  11618.700600   \n",
       "min       0.000000     0.000000     0.000000    7919.000000    101.000000   \n",
       "25%      35.000000     8.000000     8.000000   20515.000000    317.000000   \n",
       "50%     100.000000    40.000000    40.000000   55911.000000   2708.000000   \n",
       "75%    1000.000000   300.000000   300.000000  174644.000000   8047.000000   \n",
       "max    5000.000000  5000.000000  5000.000000  304601.000000  42466.000000   \n",
       "\n",
       "                Mod3  \n",
       "count     201.000000  \n",
       "mean    92799.567164  \n",
       "std     61226.844509  \n",
       "min      2153.000000  \n",
       "25%     24312.000000  \n",
       "50%    107854.000000  \n",
       "75%    143333.000000  \n",
       "max    210270.000000  "
      ]
     },
     "execution_count": 4,
     "metadata": {},
     "output_type": "execute_result"
    }
   ],
   "source": [
    "df.describe()"
   ]
  },
  {
   "cell_type": "markdown",
   "metadata": {},
   "source": [
    "As we can see, Mod1, Mod2 and Mod3 have different scales. Because I will use K-Nearest Neighbors Regression, which utilizes distances between input data points, I have to normalize them (x). I use z-score to normalize x."
   ]
  },
  {
   "cell_type": "code",
   "execution_count": 5,
   "metadata": {},
   "outputs": [
    {
     "data": {
      "text/plain": [
       "(201, 3)"
      ]
     },
     "execution_count": 5,
     "metadata": {},
     "output_type": "execute_result"
    }
   ],
   "source": [
    "from scipy.stats import zscore\n",
    "x=df.loc[:, 'Mod1':'Mod3']\n",
    "x=x.values\n",
    "X=zscore(x, axis=0)\n",
    "X.shape"
   ]
  },
  {
   "cell_type": "code",
   "execution_count": 7,
   "metadata": {},
   "outputs": [],
   "source": [
    "y_total= df.loc[:,'c_total']\n",
    "y_total=y_total.values"
   ]
  },
  {
   "cell_type": "code",
   "execution_count": 6,
   "metadata": {},
   "outputs": [],
   "source": [
    "y_Cd= df.loc[:,'Cd']\n",
    "y_Cd=y_Cd.values"
   ]
  },
  {
   "cell_type": "code",
   "execution_count": 7,
   "metadata": {},
   "outputs": [],
   "source": [
    "y_Pb= df.loc[:,'Pb']\n",
    "y_Pb=y_Pb.values"
   ]
  },
  {
   "cell_type": "markdown",
   "metadata": {},
   "source": [
    "## C-index\n",
    "I will estimate model performance by calculating C-index, which indicates how well the model captures the relative ordering/ranking of the data points. Thus I need a function for calculating C-index."
   ]
  },
  {
   "cell_type": "code",
   "execution_count": 8,
   "metadata": {},
   "outputs": [],
   "source": [
    "def cIndex(y_true, y_predicted):\n",
    "    n=0\n",
    "    h_sum=0\n",
    "    for i in range(len(y_true)):\n",
    "        t=y_true[i]\n",
    "        p=y_predicted[i]\n",
    "        for j in range((i+1), len(y_true)):\n",
    "            nt=y_true[j]\n",
    "            np=y_predicted[j] \n",
    "            if (t != nt):\n",
    "                n=n+1\n",
    "                if (t < nt and p < np) or (t > nt and p > np):\n",
    "                    h_sum = h_sum+1\n",
    "                elif (p==np):\n",
    "                    h_sum = h_sum + 0.5\n",
    "    return h_sum/n  "
   ]
  },
  {
   "cell_type": "markdown",
   "metadata": {},
   "source": [
    "Test:"
   ]
  },
  {
   "cell_type": "code",
   "execution_count": 9,
   "metadata": {},
   "outputs": [
    {
     "data": {
      "text/plain": [
       "0.75"
      ]
     },
     "execution_count": 9,
     "metadata": {},
     "output_type": "execute_result"
    }
   ],
   "source": [
    "y_true = [-1, 1, 1, -1, 1]\n",
    "y_predicted = [0.60, 0.80, 0.75, 0.75, 0.70]\n",
    "cIndex(y_true, y_predicted)\n"
   ]
  },
  {
   "cell_type": "markdown",
   "metadata": {},
   "source": [
    "## Leave-One-Out Cross Validation approach\n",
    "I start with K-Nearest Neighbors Regression from the Scikit-learn library using Euclidean distance."
   ]
  },
  {
   "cell_type": "code",
   "execution_count": 10,
   "metadata": {},
   "outputs": [],
   "source": [
    "from sklearn.model_selection import LeaveOneOut\n",
    "from sklearn.neighbors import KNeighborsRegressor\n",
    "loo = LeaveOneOut()\n",
    "\n",
    "\n",
    "def loo_sk_knn(X,y,k):\n",
    "    y_predicted= np.zeros(len(y))\n",
    "    for train_index, test_index in loo.split(X):\n",
    "        X_train=X[train_index]\n",
    "        y_train=y[train_index] \n",
    "        X_test=X[test_index]\n",
    "        y_test=y[test_index]\n",
    "        knn = KNeighborsRegressor(k)\n",
    "        knn.fit(X_train,y_train)\n",
    "        y_predicted[test_index] = knn.predict(X_test)\n",
    "    C_index= cIndex(y, y_predicted)\n",
    "    print('k =',k,': C-index =', C_index)\n",
    "    return C_index\n"
   ]
  },
  {
   "cell_type": "markdown",
   "metadata": {},
   "source": [
    "Next I will do my own implementation of K-Nearest Neighbors Regression."
   ]
  },
  {
   "cell_type": "code",
   "execution_count": 11,
   "metadata": {},
   "outputs": [],
   "source": [
    "# the function to calculate distance\n",
    "def euclideanDistance(x1,x2):   \n",
    "    return np.sqrt(np.sum((x1-x2)**2))\n",
    "\n",
    "# the function that returns k most similar neighbors from the training set for a given test instance\n",
    "import operator\n",
    "def getNeighbors(X_train, X_test, k):\n",
    "    distances = []\n",
    "    for i in range(len(X_train)):\n",
    "        dist = euclideanDistance(X_test, X_train[i])\n",
    "        distances.append((X_train[i], dist, i))\n",
    "    distances.sort(key=operator.itemgetter(1))\n",
    "    neighbors_ind = []\n",
    "    for x in range(k):\n",
    "        neighbors_ind.append(distances[x][2])\n",
    "    return neighbors_ind\n",
    "\n",
    "# the function which calculates the mean value of k nearest neighbours\n",
    "def knnPredictRegression(neighbors_ind, y_train):\n",
    "    response = 0\n",
    "    for i in range(len(neighbors_ind)):\n",
    "        response += y_train[neighbors_ind[i]]      \n",
    "    return (response/len(neighbors_ind))\n",
    "\n",
    "# my own implementation of K-Nearest Neighbours Regression with Leave-One-Out Cross Validation\n",
    "def loo_own_knn(X,y,k):\n",
    "    y_predicted= np.zeros(len(y))\n",
    "    for train_index, test_index in loo.split(X):\n",
    "        X_train=X[train_index]\n",
    "        y_train=y[train_index] \n",
    "        X_test=X[test_index]\n",
    "        y_test=y[test_index]\n",
    "        neighbors_ind = getNeighbors(X_train, X_test, k)\n",
    "        y_predicted[test_index] = knnPredictRegression(neighbors_ind, y_train)\n",
    "    C_index= cIndex(y, y_predicted)\n",
    "    print('k =',k,': C-index =', C_index)\n",
    "    return C_index"
   ]
  },
  {
   "cell_type": "markdown",
   "metadata": {},
   "source": [
    "Testing, that my own implementation of KNN-Regression gives the same values than the one from the Scikit-learn library."
   ]
  },
  {
   "cell_type": "code",
   "execution_count": 12,
   "metadata": {},
   "outputs": [
    {
     "name": "stdout",
     "output_type": "stream",
     "text": [
      "k = 1 : C-index = 0.8986640599543826\n",
      "k = 1 : C-index = 0.8986640599543826\n",
      "k = 2 : C-index = 0.9056152927120669\n",
      "k = 2 : C-index = 0.9056152927120669\n",
      "k = 3 : C-index = 0.9036059519930487\n",
      "k = 3 : C-index = 0.9036059519930487\n",
      "k = 4 : C-index = 0.8919572064733355\n",
      "k = 4 : C-index = 0.8919572064733355\n",
      "k = 5 : C-index = 0.8804170739654611\n",
      "k = 5 : C-index = 0.8804170739654611\n"
     ]
    }
   ],
   "source": [
    "for k in range(1,6):\n",
    "    c=loo_sk_knn(X,y_total,k)\n",
    "    c=loo_own_knn(X,y_total,k)"
   ]
  },
  {
   "cell_type": "markdown",
   "metadata": {},
   "source": [
    "Nice, I will continue with my own implementation only."
   ]
  },
  {
   "cell_type": "code",
   "execution_count": 13,
   "metadata": {},
   "outputs": [
    {
     "name": "stdout",
     "output_type": "stream",
     "text": [
      "k = 1 : C-index = 0.8986640599543826\n",
      "k = 2 : C-index = 0.9056152927120669\n",
      "k = 3 : C-index = 0.9036059519930487\n",
      "k = 4 : C-index = 0.8919572064733355\n",
      "k = 5 : C-index = 0.8804170739654611\n"
     ]
    },
    {
     "data": {
      "image/png": "[encoded data removed]",
      "text/plain": [
       "<Figure size 432x288 with 1 Axes>"
      ]
     },
     "metadata": {
      "needs_background": "light"
     },
     "output_type": "display_data"
    },
    {
     "name": "stdout",
     "output_type": "stream",
     "text": [
      "The best C-index achieved:  0.9056152927120669 , with k =  2\n"
     ]
    }
   ],
   "source": [
    "C_k = []\n",
    "for k in range(1,6):\n",
    "    c=loo_own_knn(X,y_total,k)\n",
    "    C_k.append(c)\n",
    "\n",
    "k = np.arange(1 , 6)\n",
    "plt.plot(k, C_k )\n",
    "plt.title('C-index for predicting total metal concentration (c_total)')\n",
    "plt.ylabel('C-index')\n",
    "plt.xlabel('k')\n",
    "plt.show()\n",
    "\n",
    "print('The best C-index achieved: ',max(C_k), ', with k = ', (np.argmax(C_k)+1 ))"
   ]
  },
  {
   "cell_type": "code",
   "execution_count": 14,
   "metadata": {},
   "outputs": [
    {
     "name": "stdout",
     "output_type": "stream",
     "text": [
      "k = 1 : C-index = 0.9005806654111739\n",
      "k = 2 : C-index = 0.9026208411801632\n",
      "k = 3 : C-index = 0.87769407825905\n",
      "k = 4 : C-index = 0.8515902908558276\n",
      "k = 5 : C-index = 0.8254080351537979\n"
     ]
    },
    {
     "data": {
      "image/png": "[encoded data removed]",
      "text/plain": [
       "<Figure size 432x288 with 1 Axes>"
      ]
     },
     "metadata": {
      "needs_background": "light"
     },
     "output_type": "display_data"
    },
    {
     "name": "stdout",
     "output_type": "stream",
     "text": [
      "The best C-index achieved:  0.9026208411801632 , with k =  2\n"
     ]
    }
   ],
   "source": [
    "C_k = []\n",
    "for k in range(1,6):\n",
    "    c=loo_own_knn(X,y_Cd,k)\n",
    "    C_k.append(c)\n",
    "\n",
    "k = np.arange(1 , 6)\n",
    "plt.plot(k, C_k )\n",
    "plt.title('C-index for predicting concentration of Cadmium (Cd) ')\n",
    "plt.ylabel('C-index')\n",
    "plt.xlabel('k')\n",
    "plt.show()\n",
    "\n",
    "print('The best C-index achieved: ',max(C_k), ', with k = ', (np.argmax(C_k)+1 ))\n"
   ]
  },
  {
   "cell_type": "code",
   "execution_count": 15,
   "metadata": {},
   "outputs": [
    {
     "name": "stdout",
     "output_type": "stream",
     "text": [
      "k = 1 : C-index = 0.866368487131199\n",
      "k = 2 : C-index = 0.8723843900397573\n",
      "k = 3 : C-index = 0.849471646788031\n",
      "k = 4 : C-index = 0.8450774220548232\n",
      "k = 5 : C-index = 0.8303515379786566\n"
     ]
    },
    {
     "data": {
      "image/png": "[encoded data removed]",
      "text/plain": [
       "<Figure size 432x288 with 1 Axes>"
      ]
     },
     "metadata": {
      "needs_background": "light"
     },
     "output_type": "display_data"
    },
    {
     "name": "stdout",
     "output_type": "stream",
     "text": [
      "The best C-index achieved:  0.8723843900397573 , with k =  2\n"
     ]
    }
   ],
   "source": [
    "C_k = []\n",
    "for k in range(1,6):\n",
    "    c=loo_own_knn(X,y_Pb,k)\n",
    "    C_k.append(c)\n",
    "\n",
    "k = np.arange(1 , 6)\n",
    "plt.plot(k, C_k )\n",
    "plt.title('C-index for predicting concentration of Lead (Pb) ')\n",
    "plt.ylabel('C-index')\n",
    "plt.xlabel('k')\n",
    "plt.show()\n",
    "\n",
    "print('The best C-index achieved: ',max(C_k), ', with k = ', (np.argmax(C_k)+1 ))"
   ]
  },
  {
   "cell_type": "markdown",
   "metadata": {},
   "source": [
    "For all predicted y, C-index was the best with k = 2. This was just what was expected, because in the test set there were 3 replicas measured from each mixture.\n",
    "\n",
    "The best C-indices:\n",
    "* total metal concentration (c_total): 0.91\n",
    "* concentration of Cadmium (Cd): 0.90\n",
    "* concentration of Lead (Pb): 0.87\n",
    "\n",
    "\n",
    "\n",
    "## Leave-Three-Out Cross Validation approach\n",
    "\n",
    "This time I need a function to divide the data into folds."
   ]
  },
  {
   "cell_type": "code",
   "execution_count": 16,
   "metadata": {},
   "outputs": [],
   "source": [
    "def partition(n, LeaveOut):\n",
    "    folds = []\n",
    "    S = set(range(n))\n",
    "    for i in list(S)[0:len(S):LeaveOut]:\n",
    "        fold = set()\n",
    "        fold.add(i)\n",
    "        fold.add(i+1)\n",
    "        fold.add(i+2)\n",
    "        folds.append(fold)\n",
    "    return folds, S"
   ]
  },
  {
   "cell_type": "code",
   "execution_count": 17,
   "metadata": {},
   "outputs": [],
   "source": [
    "folds, S = partition(201,3)"
   ]
  },
  {
   "cell_type": "markdown",
   "metadata": {},
   "source": [
    "Again, I start with K-Nearest Neighbors Regression from the Scikit-learn library using Euclidean distance."
   ]
  },
  {
   "cell_type": "code",
   "execution_count": 18,
   "metadata": {},
   "outputs": [],
   "source": [
    "def l3o_sk_knn(X,y,folds,S,k):\n",
    "    y_predicted= np.zeros(len(y))\n",
    "    for n in range(len(folds)):\n",
    "        X_train=X[list(S-folds[n])]\n",
    "        y_train=y[list(S-folds[n])] \n",
    "        X_test=X[list(folds[n])]\n",
    "        y_test=y[list(folds[n])]\n",
    "        knn = KNeighborsRegressor(k)\n",
    "        knn.fit(X_train,y_train)\n",
    "        y_p= knn.predict(X_test)\n",
    "        y_predicted[n*3]=y_p[0]\n",
    "        y_predicted[n*3 + 1]=y_p[1]\n",
    "        y_predicted[n*3 + 2]=y_p[2]\n",
    "    C_index = cIndex(y, y_predicted)\n",
    "    print('k =',k,': C-index =', C_index)\n",
    "    return C_index"
   ]
  },
  {
   "cell_type": "markdown",
   "metadata": {},
   "source": [
    "And then my own implementation of K-Nearest Neighbors Regression with Leave-Three-Out Cross Validation."
   ]
  },
  {
   "cell_type": "code",
   "execution_count": 19,
   "metadata": {},
   "outputs": [],
   "source": [
    "def l3o_own_knn(X,y,folds, S, k):\n",
    "    y_predicted= np.zeros(len(y))\n",
    "    for n in range(len(folds)):\n",
    "        X_train=X[list(S-folds[n])]\n",
    "        y_train=y[list(S-folds[n])] \n",
    "        X_test=X[list(folds[n])]\n",
    "        y_test=y[list(folds[n])]\n",
    "        for i in range(len(X_test)):\n",
    "            neighbors_ind = getNeighbors(X_train, X_test[i], k)\n",
    "            y_predicted[n*3 + i] = knnPredictRegression(neighbors_ind, y_train)\n",
    "    C_index= cIndex(y, y_predicted)\n",
    "    print('k =',k,': C-index =', C_index)\n",
    "    return C_index"
   ]
  },
  {
   "cell_type": "markdown",
   "metadata": {},
   "source": [
    "Testing, that my own implementation of KNN-Regression gives the same values than the one in the Scikit-learn library."
   ]
  },
  {
   "cell_type": "code",
   "execution_count": 20,
   "metadata": {},
   "outputs": [
    {
     "name": "stdout",
     "output_type": "stream",
     "text": [
      "k = 1 : C-index = 0.8150048875855328\n",
      "k = 1 : C-index = 0.8150048875855328\n",
      "k = 2 : C-index = 0.8157380254154448\n",
      "k = 2 : C-index = 0.8157380254154448\n",
      "k = 3 : C-index = 0.8200553926360378\n",
      "k = 3 : C-index = 0.8200553926360378\n",
      "k = 4 : C-index = 0.8226892581731291\n",
      "k = 4 : C-index = 0.8226892581731291\n",
      "k = 5 : C-index = 0.815167807103291\n",
      "k = 5 : C-index = 0.815167807103291\n"
     ]
    }
   ],
   "source": [
    "for k in range(1,6):\n",
    "    c=l3o_sk_knn(X,y_total,folds,S,k)\n",
    "    c=l3o_own_knn(X,y_total,folds,S,k)"
   ]
  },
  {
   "cell_type": "markdown",
   "metadata": {},
   "source": [
    " Both functions give the same answers, so I can continue with my own implementation only."
   ]
  },
  {
   "cell_type": "code",
   "execution_count": 22,
   "metadata": {},
   "outputs": [
    {
     "name": "stdout",
     "output_type": "stream",
     "text": [
      "k = 1 : C-index = 0.8150048875855328\n",
      "k = 2 : C-index = 0.8157380254154448\n",
      "k = 3 : C-index = 0.8200553926360378\n",
      "k = 4 : C-index = 0.8226892581731291\n",
      "k = 5 : C-index = 0.815167807103291\n"
     ]
    },
    {
     "data": {
      "image/png": "[encoded data removed]",
      "text/plain": [
       "<Figure size 432x288 with 1 Axes>"
      ]
     },
     "metadata": {
      "needs_background": "light"
     },
     "output_type": "display_data"
    },
    {
     "name": "stdout",
     "output_type": "stream",
     "text": [
      "The best C-index achieved:  0.8226892581731291 , with k =  4\n"
     ]
    }
   ],
   "source": [
    "C_k = []\n",
    "for k in range(1,6):\n",
    "    c=l3o_own_knn(X,y_total,folds, S, k)\n",
    "    C_k.append(c)\n",
    "\n",
    "k = np.arange(1 , 6)\n",
    "plt.plot(k, C_k )\n",
    "plt.title('C-index for predicting total metal concentration (c_total)')\n",
    "plt.ylabel('C-index')\n",
    "plt.xlabel('k')\n",
    "plt.show()\n",
    "\n",
    "print('The best C-index achieved: ',max(C_k), ', with k = ', (np.argmax(C_k)+1 ))"
   ]
  },
  {
   "cell_type": "code",
   "execution_count": 23,
   "metadata": {},
   "outputs": [
    {
     "name": "stdout",
     "output_type": "stream",
     "text": [
      "k = 1 : C-index = 0.7410284578363674\n",
      "k = 2 : C-index = 0.7455011508683825\n",
      "k = 3 : C-index = 0.7353525842226407\n",
      "k = 4 : C-index = 0.7221437539234149\n",
      "k = 5 : C-index = 0.7206528562460766\n"
     ]
    },
    {
     "data": {
      "image/png": "[encoded data removed]",
      "text/plain": [
       "<Figure size 432x288 with 1 Axes>"
      ]
     },
     "metadata": {
      "needs_background": "light"
     },
     "output_type": "display_data"
    },
    {
     "name": "stdout",
     "output_type": "stream",
     "text": [
      "The best C-index achieved:  0.7455011508683825 , with k =  2\n"
     ]
    }
   ],
   "source": [
    "C_k = []\n",
    "for k in range(1,6):\n",
    "    c=l3o_own_knn(X,y_Cd,folds, S, k)\n",
    "    C_k.append(c)\n",
    "\n",
    "k = np.arange(1 , 6)\n",
    "plt.plot(k, C_k )\n",
    "plt.title('C-index for predicting concentration of Cadmium (Cd) ')\n",
    "plt.ylabel('C-index')\n",
    "plt.xlabel('k')\n",
    "plt.show()\n",
    "\n",
    "print('The best C-index achieved: ',max(C_k), ', with k = ', (np.argmax(C_k)+1 ))\n"
   ]
  },
  {
   "cell_type": "code",
   "execution_count": 24,
   "metadata": {},
   "outputs": [
    {
     "name": "stdout",
     "output_type": "stream",
     "text": [
      "k = 1 : C-index = 0.7362680477087257\n",
      "k = 2 : C-index = 0.7518832391713748\n",
      "k = 3 : C-index = 0.7527463904582549\n",
      "k = 4 : C-index = 0.7594423519564762\n",
      "k = 5 : C-index = 0.755937434609751\n"
     ]
    },
    {
     "data": {
      "image/png": "[encoded data removed]",
      "text/plain": [
       "<Figure size 432x288 with 1 Axes>"
      ]
     },
     "metadata": {
      "needs_background": "light"
     },
     "output_type": "display_data"
    },
    {
     "name": "stdout",
     "output_type": "stream",
     "text": [
      "The best C-index achieved:  0.7594423519564762 , with k =  4\n"
     ]
    }
   ],
   "source": [
    "C_k = []\n",
    "for k in range(1,6):\n",
    "    c=l3o_own_knn(X,y_Pb,folds, S, k)\n",
    "    C_k.append(c)\n",
    "\n",
    "k = np.arange(1 , 6)\n",
    "plt.plot(k, C_k )\n",
    "plt.title('C-index for predicting concentration of Lead (Pb) ')\n",
    "plt.ylabel('C-index')\n",
    "plt.xlabel('k')\n",
    "plt.show()\n",
    "\n",
    "print('The best C-index achieved: ',max(C_k), ', with k = ', (np.argmax(C_k)+1 ))"
   ]
  },
  {
   "cell_type": "markdown",
   "metadata": {},
   "source": [
    "The best C-index achieved:  \n",
    "* for predicting total metal concentration (c_total): 0.82 , with k =  4\n",
    "* for predicting concentration of Cadmium (Cd): 0.75 , with k =  2\n",
    "* for predicting concentration of Lead (Pb): 0.76 , with k =  4\n",
    "\n",
    "These evaluations are lower than with Leave-One-Out Cross Validation. Leave-Three-Out Cross Validation evaluation approach generalize better because then no replicas of the same mixture can be used in training and prediction."
   ]
  },
  {
   "cell_type": "code",
   "execution_count": null,
   "metadata": {},
   "outputs": [],
   "source": []
  }
 ],
 "metadata": {
  "kernelspec": {
   "display_name": "Python 3",
   "language": "python",
   "name": "python3"
  },
  "language_info": {
   "codemirror_mode": {
    "name": "ipython",
    "version": 3
   },
   "file_extension": ".py",
   "mimetype": "text/x-python",
   "name": "python",
   "nbconvert_exporter": "python",
   "pygments_lexer": "ipython3",
   "version": "3.7.0"
  }
 },
 "nbformat": 4,
 "nbformat_minor": 2
}
